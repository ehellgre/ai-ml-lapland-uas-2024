{
 "cells": [
  {
   "cell_type": "markdown",
   "metadata": {
    "id": "kksmFKOUXUDJ"
   },
   "source": [
    "# AI ja koneoppiminen - tehtävä 1\n",
    "\n",
    "Palauttakaa tämän ipynb-tiedosto pohjana"
   ]
  },
  {
   "cell_type": "markdown",
   "metadata": {
    "id": "Y-AycYvMXXyl"
   },
   "source": [
    "## 1.1 Markdown\n",
    "Kirjoita seuraavat asiat markdown-kenttään:\n",
    " 1. Väliotsikko: \"Markdown-lista\"\n",
    " 2. Numeroitu lista\n",
    " 3. Väliotsikko: \"Markdown-kuva\"\n",
    " 4. Upota kuva markdownilla. Kuvan linkki: https://www.frostbit.fi/wp-content/uploads/2024/08/Gamejam2024-header-webpage.jpg\n",
    " 5. Väliotsikko: \"Markdown-linkki\"\n",
    " 6. Markdown-linkki osoitteeseen: https://www.lapinamk.fi/fi"
   ]
  },
  {
   "cell_type": "markdown",
   "metadata": {
    "id": "sY6zyOUuZDZJ"
   },
   "source": [
    "## Markdown-lista\n",
    "1. testi1\n",
    "2. testi2\n",
    "3. testi3\n",
    "\n",
    "## Markdown-kuva\n",
    "![KUVA](https://www.frostbit.fi/wp-content/uploads/2024/08/Gamejam2024-header-webpage.jpg)\n",
    "\n",
    "## Markdown-linkki\n",
    "[AMK-SIVU](https://www.lapinamk.fi/fi)"
   ]
  },
  {
   "cell_type": "markdown",
   "metadata": {
    "id": "df4Pi3-MZU_6"
   },
   "source": [
    "## 1.2 Numpy\n",
    "\n",
    "Tee seuraavat numpy-harjoitukset:"
   ]
  },
  {
   "cell_type": "code",
   "execution_count": 1,
   "metadata": {
    "id": "8SXM0Bx4fc4X"
   },
   "outputs": [],
   "source": [
    "# Tuo Numpy -kirjasto tässä\n",
    "import numpy as np"
   ]
  },
  {
   "cell_type": "code",
   "execution_count": 3,
   "metadata": {
    "colab": {
     "base_uri": "https://localhost:8080/"
    },
    "id": "wvAm9qQ2aKQA",
    "outputId": "cf81b344-d79c-4d6a-f84a-d12ce0874ae0"
   },
   "outputs": [
    {
     "data": {
      "text/plain": [
       "array([0.86440051, 0.06892858, 0.98526928, 0.18768639, 0.95202186,\n",
       "       0.71739929, 0.7406352 , 0.5841368 , 0.11659278, 0.23693378,\n",
       "       0.01025401, 0.4993498 , 0.46218685, 0.97547161, 0.62885956,\n",
       "       0.37078434, 0.31076232, 0.07687386, 0.66433079, 0.58548064])"
      ]
     },
     "execution_count": 3,
     "metadata": {},
     "output_type": "execute_result"
    }
   ],
   "source": [
    "# Tässä luodaan satunnaisten lukujen yksiulotteinen numpy ndarray\n",
    "numpy_array = np.random.random(20)\n",
    "numpy_array"
   ]
  },
  {
   "cell_type": "code",
   "execution_count": 4,
   "metadata": {
    "id": "Qhy7v2LVcKNV"
   },
   "outputs": [
    {
     "data": {
      "text/plain": [
       "np.float64(0.5019179123612575)"
      ]
     },
     "execution_count": 4,
     "metadata": {},
     "output_type": "execute_result"
    }
   ],
   "source": [
    "# Laske numpy_array lukujen keskiarvo tähän:\n",
    "numpy_array_mean = numpy_array.mean()\n",
    "numpy_array_mean"
   ]
  },
  {
   "cell_type": "code",
   "execution_count": 5,
   "metadata": {
    "colab": {
     "base_uri": "https://localhost:8080/"
    },
    "id": "KabwnWm_du_y",
    "outputId": "62439d5e-a843-424c-bced-68c3861bccec"
   },
   "outputs": [
    {
     "data": {
      "text/plain": [
       "array([[0.35534273, 0.56204377, 0.88348242],\n",
       "       [0.16651496, 0.04827282, 0.68888262],\n",
       "       [0.23794159, 0.29932577, 0.50155693],\n",
       "       [0.31009186, 0.08503848, 0.96670932],\n",
       "       [0.38359913, 0.98425375, 0.04027949],\n",
       "       [0.13178013, 0.19356328, 0.6507773 ],\n",
       "       [0.56441691, 0.65872717, 0.08910529],\n",
       "       [0.89296297, 0.05625773, 0.89052993],\n",
       "       [0.01906596, 0.01858333, 0.91059471],\n",
       "       [0.90103424, 0.54273364, 0.86879026],\n",
       "       [0.72385291, 0.05045685, 0.08900392],\n",
       "       [0.89410422, 0.85605004, 0.79308848],\n",
       "       [0.60829358, 0.26616526, 0.02128316],\n",
       "       [0.83988706, 0.35054829, 0.71236336],\n",
       "       [0.29690228, 0.3256476 , 0.47042426],\n",
       "       [0.73532637, 0.886925  , 0.13512294],\n",
       "       [0.47971161, 0.40104065, 0.20235553],\n",
       "       [0.1354707 , 0.68476653, 0.60374391],\n",
       "       [0.73547662, 0.03088941, 0.55898486],\n",
       "       [0.08593944, 0.56788928, 0.81042885]])"
      ]
     },
     "execution_count": 5,
     "metadata": {},
     "output_type": "execute_result"
    }
   ],
   "source": [
    "# Tässä luodaan satunnaisten lukujen kolmiulotteinen numpy ndarray\n",
    "numpy_matrix = np.random.random(size=(20, 3))\n",
    "numpy_matrix"
   ]
  },
  {
   "cell_type": "code",
   "execution_count": 6,
   "metadata": {
    "id": "2ZXHPxBbeicV"
   },
   "outputs": [
    {
     "data": {
      "text/plain": [
       "array([0.47488576, 0.39345893, 0.54437538])"
      ]
     },
     "execution_count": 6,
     "metadata": {},
     "output_type": "execute_result"
    }
   ],
   "source": [
    "# Laske numpy_matrix keskiarvot per sarake:\n",
    "numpy_matrix_mean_per_column = numpy_matrix.mean(axis=0)\n",
    "numpy_matrix_mean_per_column"
   ]
  },
  {
   "cell_type": "markdown",
   "metadata": {
    "id": "UEGHWYuWfIv-"
   },
   "source": [
    "## 1.3 Pandas\n",
    "\n",
    "Tee seuraavan Pandas-harjoitukset"
   ]
  },
  {
   "cell_type": "code",
   "execution_count": 7,
   "metadata": {
    "id": "G62pEM6PfWst"
   },
   "outputs": [],
   "source": [
    "# Tuo Pandas -kirjasto tässä\n",
    "import pandas as pd"
   ]
  },
  {
   "cell_type": "code",
   "execution_count": 9,
   "metadata": {
    "id": "kc4o9LfefUtA"
   },
   "outputs": [],
   "source": [
    "# Luodaan DataFrame, joka sisältää tietoa opiskelijoista\n",
    "data = {\n",
    "    'Nimi': ['Anna', 'Matti', 'Liisa', 'Pekka'],\n",
    "    'Ikä': [22, 21, 23, 24],\n",
    "    'Arvosana': [5, 4, 3, 5]\n",
    "}\n",
    "df = pd.DataFrame(data)"
   ]
  },
  {
   "cell_type": "code",
   "execution_count": 10,
   "metadata": {
    "id": "uLBugxUVf_e_"
   },
   "outputs": [
    {
     "data": {
      "text/plain": [
       "np.float64(22.5)"
      ]
     },
     "execution_count": 10,
     "metadata": {},
     "output_type": "execute_result"
    }
   ],
   "source": [
    "# Laske opiskelijoiden keski-ikä:\n",
    "mid_age = df['Ikä'].mean()\n",
    "mid_age"
   ]
  },
  {
   "cell_type": "code",
   "execution_count": 11,
   "metadata": {
    "id": "YkYoPAI1gE4m"
   },
   "outputs": [
    {
     "data": {
      "text/html": [
       "<div>\n",
       "<style scoped>\n",
       "    .dataframe tbody tr th:only-of-type {\n",
       "        vertical-align: middle;\n",
       "    }\n",
       "\n",
       "    .dataframe tbody tr th {\n",
       "        vertical-align: top;\n",
       "    }\n",
       "\n",
       "    .dataframe thead th {\n",
       "        text-align: right;\n",
       "    }\n",
       "</style>\n",
       "<table border=\"1\" class=\"dataframe\">\n",
       "  <thead>\n",
       "    <tr style=\"text-align: right;\">\n",
       "      <th></th>\n",
       "      <th>Nimi</th>\n",
       "      <th>Ikä</th>\n",
       "      <th>Arvosana</th>\n",
       "    </tr>\n",
       "  </thead>\n",
       "  <tbody>\n",
       "    <tr>\n",
       "      <th>0</th>\n",
       "      <td>Anna</td>\n",
       "      <td>22</td>\n",
       "      <td>5</td>\n",
       "    </tr>\n",
       "    <tr>\n",
       "      <th>1</th>\n",
       "      <td>Matti</td>\n",
       "      <td>21</td>\n",
       "      <td>4</td>\n",
       "    </tr>\n",
       "    <tr>\n",
       "      <th>3</th>\n",
       "      <td>Pekka</td>\n",
       "      <td>24</td>\n",
       "      <td>5</td>\n",
       "    </tr>\n",
       "  </tbody>\n",
       "</table>\n",
       "</div>"
      ],
      "text/plain": [
       "    Nimi  Ikä  Arvosana\n",
       "0   Anna   22         5\n",
       "1  Matti   21         4\n",
       "3  Pekka   24         5"
      ]
     },
     "execution_count": 11,
     "metadata": {},
     "output_type": "execute_result"
    }
   ],
   "source": [
    "# Suodata ne opiskelijat, joiden arvosana on yli 3\n",
    "filtered_students = df[df['Arvosana'] > 3]\n",
    "filtered_students"
   ]
  }
 ],
 "metadata": {
  "colab": {
   "provenance": []
  },
  "kernelspec": {
   "display_name": "venv",
   "language": "python",
   "name": "python3"
  },
  "language_info": {
   "codemirror_mode": {
    "name": "ipython",
    "version": 3
   },
   "file_extension": ".py",
   "mimetype": "text/x-python",
   "name": "python",
   "nbconvert_exporter": "python",
   "pygments_lexer": "ipython3",
   "version": "3.10.11"
  }
 },
 "nbformat": 4,
 "nbformat_minor": 0
}

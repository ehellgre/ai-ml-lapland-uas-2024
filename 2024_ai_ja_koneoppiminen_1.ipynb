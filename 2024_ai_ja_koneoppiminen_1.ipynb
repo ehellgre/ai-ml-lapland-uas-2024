{
  "nbformat": 4,
  "nbformat_minor": 0,
  "metadata": {
    "colab": {
      "provenance": []
    },
    "kernelspec": {
      "name": "python3",
      "display_name": "Python 3"
    },
    "language_info": {
      "name": "python"
    }
  },
  "cells": [
    {
      "cell_type": "markdown",
      "source": [
        "# AI ja koneoppiminen - tehtävä 1\n",
        "\n",
        "Palauttakaa tämän ipynb-tiedosto pohjana"
      ],
      "metadata": {
        "id": "kksmFKOUXUDJ"
      }
    },
    {
      "cell_type": "markdown",
      "source": [
        "## 1.1 Markdown\n",
        "Kirjoita seuraavat asiat markdown-kenttään:\n",
        " 1. Väliotsikko: \"Markdown-lista\"\n",
        " 2. Numeroitu lista\n",
        " 3. Väliotsikko: \"Markdown-kuva\"\n",
        " 4. Upota kuva markdownilla. Kuvan linkki: https://www.frostbit.fi/wp-content/uploads/2024/08/Gamejam2024-header-webpage.jpg\n",
        " 5. Väliotsikko: \"Markdown-linkki\"\n",
        " 6. Markdown-linkki osoitteeseen: https://www.lapinamk.fi/fi"
      ],
      "metadata": {
        "id": "Y-AycYvMXXyl"
      }
    },
    {
      "cell_type": "markdown",
      "source": [
        "Kirjoita markdown tähän"
      ],
      "metadata": {
        "id": "sY6zyOUuZDZJ"
      }
    },
    {
      "cell_type": "markdown",
      "source": [
        "## 1.2 Numpy\n",
        "\n",
        "Tee seuraavat numpy-harjoitukset:"
      ],
      "metadata": {
        "id": "df4Pi3-MZU_6"
      }
    },
    {
      "cell_type": "code",
      "source": [
        "# Tuo Numpy -kirjasto tässä\n"
      ],
      "metadata": {
        "id": "8SXM0Bx4fc4X"
      },
      "execution_count": 52,
      "outputs": []
    },
    {
      "cell_type": "code",
      "source": [
        "# Tässä luodaan satunnaisten lukujen yksiulotteinen numpy ndarray\n",
        "numpy_array = np.random.random(20)\n",
        "numpy_array"
      ],
      "metadata": {
        "colab": {
          "base_uri": "https://localhost:8080/"
        },
        "id": "wvAm9qQ2aKQA",
        "outputId": "cf81b344-d79c-4d6a-f84a-d12ce0874ae0"
      },
      "execution_count": 53,
      "outputs": [
        {
          "output_type": "execute_result",
          "data": {
            "text/plain": [
              "array([0.94749034, 0.36021017, 0.20976432, 0.15737695, 0.82005362,\n",
              "       0.44742324, 0.40244446, 0.74985365, 0.37375978, 0.72470871,\n",
              "       0.43848601, 0.96697054, 0.12331159, 0.55286656, 0.69701022,\n",
              "       0.45020823, 0.19867445, 0.35416055, 0.24812416, 0.72052848])"
            ]
          },
          "metadata": {},
          "execution_count": 53
        }
      ]
    },
    {
      "cell_type": "code",
      "source": [
        "# Laske numpy_array lukujen keskiarvo tähän:\n"
      ],
      "metadata": {
        "id": "Qhy7v2LVcKNV"
      },
      "execution_count": 54,
      "outputs": []
    },
    {
      "cell_type": "code",
      "source": [
        "# Tässä luodaan satunnaisten lukujen kolmiulotteinen numpy ndarray\n",
        "numpy_matrix = np.random.random(size=(20, 3))\n",
        "numpy_matrix"
      ],
      "metadata": {
        "colab": {
          "base_uri": "https://localhost:8080/"
        },
        "id": "KabwnWm_du_y",
        "outputId": "62439d5e-a843-424c-bced-68c3861bccec"
      },
      "execution_count": 55,
      "outputs": [
        {
          "output_type": "execute_result",
          "data": {
            "text/plain": [
              "array([[0.93397262, 0.20424282, 0.34290069],\n",
              "       [0.62791679, 0.8954823 , 0.89140822],\n",
              "       [0.33177744, 0.3404003 , 0.19718021],\n",
              "       [0.90681518, 0.747992  , 0.31106101],\n",
              "       [0.44256479, 0.41302738, 0.2999793 ],\n",
              "       [0.07767413, 0.6623055 , 0.92279021],\n",
              "       [0.86213724, 0.93746839, 0.84721806],\n",
              "       [0.35698319, 0.71439329, 0.80488705],\n",
              "       [0.48257365, 0.01498436, 0.74544179],\n",
              "       [0.84793552, 0.04153145, 0.46782847],\n",
              "       [0.45325687, 0.71388284, 0.20953226],\n",
              "       [0.18608796, 0.87779832, 0.8870515 ],\n",
              "       [0.8315551 , 0.40636372, 0.72737713],\n",
              "       [0.74987787, 0.70476195, 0.81465806],\n",
              "       [0.26399238, 0.30712327, 0.6105635 ],\n",
              "       [0.42220186, 0.65945671, 0.80722596],\n",
              "       [0.91369604, 0.9248155 , 0.99757235],\n",
              "       [0.07627351, 0.95882159, 0.73520713],\n",
              "       [0.28647249, 0.32203303, 0.94164212],\n",
              "       [0.54837109, 0.68549982, 0.49234949]])"
            ]
          },
          "metadata": {},
          "execution_count": 55
        }
      ]
    },
    {
      "cell_type": "code",
      "source": [
        "# Laske numpy_matrix keskiarvot per sarake:\n"
      ],
      "metadata": {
        "id": "2ZXHPxBbeicV"
      },
      "execution_count": 56,
      "outputs": []
    },
    {
      "cell_type": "markdown",
      "source": [
        "## 1.3 Pandas\n",
        "\n",
        "Tee seuraavan Pandas-harjoitukset"
      ],
      "metadata": {
        "id": "UEGHWYuWfIv-"
      }
    },
    {
      "cell_type": "code",
      "source": [
        "# Tuo Pandas -kirjasto tässä\n"
      ],
      "metadata": {
        "id": "G62pEM6PfWst"
      },
      "execution_count": 57,
      "outputs": []
    },
    {
      "cell_type": "code",
      "source": [
        "# Luodaan DataFrame, joka sisältää tietoa opiskelijoista\n",
        "data = {\n",
        "    'Nimi': ['Anna', 'Matti', 'Liisa', 'Pekka'],\n",
        "    'Ikä': [22, 21, 23, 24],\n",
        "    'Arvosana': [5, 4, 3, 5]\n",
        "}\n",
        "df = pd.DataFrame(data)"
      ],
      "metadata": {
        "id": "kc4o9LfefUtA"
      },
      "execution_count": 58,
      "outputs": []
    },
    {
      "cell_type": "code",
      "source": [
        "# Laske opiskelijoiden keski-ikä:\n"
      ],
      "metadata": {
        "id": "uLBugxUVf_e_"
      },
      "execution_count": 59,
      "outputs": []
    },
    {
      "cell_type": "code",
      "source": [
        "# Suodata ne opiskelijat, joiden arvosana on yli 3\n"
      ],
      "metadata": {
        "id": "YkYoPAI1gE4m"
      },
      "execution_count": 60,
      "outputs": []
    }
  ]
}